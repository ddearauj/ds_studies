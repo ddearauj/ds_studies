{
 "cells": [
  {
   "cell_type": "code",
   "execution_count": 1,
   "metadata": {},
   "outputs": [],
   "source": [
    "import pandas as pd"
   ]
  },
  {
   "cell_type": "code",
   "execution_count": 2,
   "metadata": {},
   "outputs": [],
   "source": [
    "train = pd.read_json('train.json')"
   ]
  },
  {
   "cell_type": "code",
   "execution_count": 3,
   "metadata": {},
   "outputs": [],
   "source": [
    "NUMBER_OF_SPLITS = 20\n",
    "data_sets = []\n",
    "\n",
    "for i in range(NUMBER_OF_SPLITS):\n",
    "    data_sets.append([])"
   ]
  },
  {
   "cell_type": "code",
   "execution_count": 4,
   "metadata": {},
   "outputs": [],
   "source": [
    "import random\n",
    "\n",
    "for i in range(len(train)):\n",
    "    index = random.randint(0,len(data_sets)-1)\n",
    "    data_sets[index].append(train.iloc[i])"
   ]
  },
  {
   "cell_type": "code",
   "execution_count": 5,
   "metadata": {},
   "outputs": [],
   "source": [
    "data_frames = []\n",
    "\n",
    "for i in range(len(data_sets)):\n",
    "    data_frames.append(pd.DataFrame(data = data_sets[i]))"
   ]
  },
  {
   "cell_type": "code",
   "execution_count": 6,
   "metadata": {},
   "outputs": [],
   "source": [
    "def closeness(list1,list2):\n",
    "    result = 0\n",
    "    for i in list1:\n",
    "        if i in list2:\n",
    "            result += 1\n",
    "    return result"
   ]
  },
  {
   "cell_type": "code",
   "execution_count": 7,
   "metadata": {},
   "outputs": [],
   "source": [
    "def get_closeness_vector(instance, data_frame):\n",
    "    closeness_vector = []\n",
    "    for i in range(len(data_frame)):\n",
    "        closeness_vector.append({'cuisine': data_frame.iloc[i]['cuisine'],\n",
    "                                 'closeness': closeness(instance['ingredients'],data_frame.iloc[i]['ingredients'])})\n",
    "    return closeness_vector"
   ]
  },
  {
   "cell_type": "code",
   "execution_count": 8,
   "metadata": {},
   "outputs": [],
   "source": [
    "from operator import itemgetter\n",
    "\n",
    "def get_cuisine(instance, data_frame):\n",
    "    vector = get_closeness_vector(instance, data_frame)\n",
    "    cuisines = []\n",
    "    for item in vector:\n",
    "        if [item['cuisine']] not in cuisines:\n",
    "            cuisines.append([item['cuisine']])\n",
    "    \n",
    "    for cuisine in cuisines:\n",
    "        cuisine.append(0)\n",
    "        cuisine.append(0)\n",
    "        for item in vector:\n",
    "            if item['cuisine'] == cuisine[0]:\n",
    "                cuisine[1] += item['closeness']\n",
    "                cuisine[2] += 1\n",
    "        cuisine.append(cuisine[1]/cuisine[2])\n",
    "    \n",
    "    return sorted(cuisines, key=itemgetter(3), reverse=True)[0][0]"
   ]
  },
  {
   "cell_type": "code",
   "execution_count": null,
   "metadata": {},
   "outputs": [
    {
     "name": "stdout",
     "output_type": "stream",
     "text": [
      "brazilian italian\n",
      "jamaican filipino\n",
      "russian chinese\n",
      "russian southern_us\n",
      "jamaican southern_us\n",
      "jamaican chinese\n",
      "jamaican indian\n",
      "moroccan italian\n",
      "brazilian mexican\n",
      "jamaican mexican\n",
      "filipino japanese\n",
      "brazilian mexican\n",
      "vietnamese vietnamese\n",
      "jamaican korean\n",
      "vietnamese mexican\n",
      "moroccan italian\n",
      "korean korean\n",
      "korean chinese\n",
      "russian french\n",
      "russian filipino\n",
      "jamaican cajun_creole\n",
      "vietnamese chinese\n",
      "moroccan french\n",
      "jamaican southern_us\n",
      "jamaican british\n",
      "jamaican chinese\n",
      "spanish italian\n",
      "russian french\n",
      "jamaican mexican\n",
      "russian southern_us\n",
      "brazilian italian\n",
      "russian mexican\n",
      "moroccan japanese\n",
      "russian french\n",
      "jamaican italian\n",
      "moroccan french\n",
      "jamaican mexican\n",
      "brazilian italian\n",
      "moroccan indian\n",
      "jamaican indian\n",
      "russian brazilian\n",
      "korean chinese\n",
      "irish british\n",
      "moroccan greek\n",
      "russian italian\n",
      "russian french\n",
      "korean chinese\n",
      "russian british\n",
      "brazilian french\n",
      "jamaican mexican\n",
      "korean chinese\n",
      "jamaican chinese\n",
      "jamaican mexican\n",
      "filipino indian\n",
      "moroccan italian\n",
      "jamaican thai\n",
      "jamaican french\n",
      "irish mexican\n",
      "filipino indian\n",
      "moroccan moroccan\n",
      "brazilian mexican\n",
      "jamaican mexican\n",
      "vietnamese thai\n",
      "irish southern_us\n",
      "moroccan french\n",
      "jamaican indian\n",
      "jamaican chinese\n",
      "korean chinese\n",
      "russian southern_us\n",
      "brazilian mexican\n",
      "jamaican cajun_creole\n",
      "russian chinese\n",
      "russian french\n",
      "russian mexican\n",
      "russian british\n",
      "brazilian italian\n",
      "jamaican mexican\n",
      "greek mexican\n",
      "moroccan indian\n",
      "brazilian mexican\n",
      "jamaican japanese\n",
      "jamaican chinese\n",
      "brazilian greek\n",
      "jamaican thai\n"
     ]
    }
   ],
   "source": [
    "training_set = pd.concat(data_frames[1:len(data_frames)-1])\n",
    "\n",
    "validation_set = data_frames[0]\n",
    "\n",
    "for i in range(len(validation_set)):\n",
    "    print(get_cuisine(validation_set.iloc[i],training_set),validation_set.iloc[i]['cuisine'])"
   ]
  },
  {
   "cell_type": "code",
   "execution_count": 22,
   "metadata": {},
   "outputs": [
    {
     "name": "stdout",
     "output_type": "stream",
     "text": [
      "cuisine\n",
      "id\n",
      "ingredients\n"
     ]
    }
   ],
   "source": []
  }
 ],
 "metadata": {
  "kernelspec": {
   "display_name": "Python 3",
   "language": "python",
   "name": "python3"
  },
  "language_info": {
   "codemirror_mode": {
    "name": "ipython",
    "version": 3
   },
   "file_extension": ".py",
   "mimetype": "text/x-python",
   "name": "python",
   "nbconvert_exporter": "python",
   "pygments_lexer": "ipython3",
   "version": "3.6.5"
  }
 },
 "nbformat": 4,
 "nbformat_minor": 2
}
